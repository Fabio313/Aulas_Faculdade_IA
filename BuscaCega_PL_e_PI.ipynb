{
  "nbformat": 4,
  "nbformat_minor": 0,
  "metadata": {
    "colab": {
      "provenance": [],
      "authorship_tag": "ABX9TyMcJalCwl0VAmaLDKLPYPvH",
      "include_colab_link": true
    },
    "kernelspec": {
      "name": "python3",
      "display_name": "Python 3"
    },
    "language_info": {
      "name": "python"
    }
  },
  "cells": [
    {
      "cell_type": "markdown",
      "metadata": {
        "id": "view-in-github",
        "colab_type": "text"
      },
      "source": [
        "<a href=\"https://colab.research.google.com/github/Fabio313/Aulas_Faculdade_IA/blob/main/BuscaCega_PL_e_PI.ipynb\" target=\"_parent\"><img src=\"https://colab.research.google.com/assets/colab-badge.svg\" alt=\"Open In Colab\"/></a>"
      ]
    },
    {
      "cell_type": "markdown",
      "source": [
        "# Busca por Profundidade Limitada"
      ],
      "metadata": {
        "id": "Ia4LWCusoW-l"
      }
    },
    {
      "cell_type": "markdown",
      "source": [
        "Nó da árvore"
      ],
      "metadata": {
        "id": "ZUlBkWQOoaLb"
      }
    },
    {
      "cell_type": "code",
      "source": [
        "class Node:\n",
        "    def __init__(self, data):\n",
        "        self.data = data\n",
        "        self.left = None\n",
        "        self.right = None"
      ],
      "metadata": {
        "id": "oehCtpI2ocHm"
      },
      "execution_count": 8,
      "outputs": []
    },
    {
      "cell_type": "markdown",
      "source": [
        "Função de busca em profundidade limitada"
      ],
      "metadata": {
        "id": "lUIFmcj8oeRb"
      }
    },
    {
      "cell_type": "code",
      "source": [
        "def depth_limited_search(node, target, depth):\n",
        "    if node is None:  # Caso base: nó é nulo\n",
        "        return False\n",
        "\n",
        "    if node.data == target:  # Caso base: encontrou o elemento\n",
        "        print(\"Elemento\", target, \"encontrado na árvore.\")\n",
        "        return True\n",
        "\n",
        "    if depth <= 0:  # Caso base: profundidade máxima atingida\n",
        "        return False\n",
        "\n",
        "    # Recursão para os nós filhos\n",
        "    if depth_limited_search(node.left, target, depth - 1):\n",
        "        return True\n",
        "    if depth_limited_search(node.right, target, depth - 1):\n",
        "        return True\n",
        "\n",
        "    return False"
      ],
      "metadata": {
        "id": "znCGkFkbofzL"
      },
      "execution_count": 9,
      "outputs": []
    },
    {
      "cell_type": "markdown",
      "source": [
        "Árvore de exemplo"
      ],
      "metadata": {
        "id": "8TL5TYj4ojWL"
      }
    },
    {
      "cell_type": "code",
      "source": [
        "def create_tree():\n",
        "    root = Node(1)\n",
        "    root.left = Node(2)\n",
        "    root.right = Node(3)\n",
        "    root.left.left = Node(4)\n",
        "    root.left.right = Node(5)\n",
        "    root.right.left = Node(6)\n",
        "    root.right.right = Node(7)\n",
        "    root.left.left.left = Node(8)\n",
        "    root.left.left.right = Node(9)\n",
        "    return root"
      ],
      "metadata": {
        "id": "2G0O23XzolM0"
      },
      "execution_count": 10,
      "outputs": []
    },
    {
      "cell_type": "markdown",
      "source": [
        "Teste:"
      ],
      "metadata": {
        "id": "5ConhI1Momxl"
      }
    },
    {
      "cell_type": "code",
      "source": [
        "def main():\n",
        "    root = create_tree()  # Carregar Árvore\n",
        "\n",
        "    target = 9  # Buscar\n",
        "    max_depth = 3  # Profundidade Máxima\n",
        "    print(\"Busca em profundidade limitada para o elemento\", target, \":\")\n",
        "    if not depth_limited_search(root, target, max_depth):\n",
        "        print(\"Elemento\", target, \"NÃO encontrado na árvore.\")\n",
        "\n",
        "if __name__ == \"__main__\":\n",
        "    main()"
      ],
      "metadata": {
        "colab": {
          "base_uri": "https://localhost:8080/"
        },
        "id": "3J_TQxtcopuN",
        "outputId": "b21aea03-42ea-4dcc-f330-3eb50f7a9281"
      },
      "execution_count": 11,
      "outputs": [
        {
          "output_type": "stream",
          "name": "stdout",
          "text": [
            "Busca em profundidade limitada para o elemento 9 :\n",
            "Elemento 9 encontrado na árvore.\n"
          ]
        }
      ]
    },
    {
      "cell_type": "markdown",
      "source": [
        "# Busca de Aprofundamento Iterativo (BAI)"
      ],
      "metadata": {
        "id": "7XzGRO4pph0t"
      }
    },
    {
      "cell_type": "markdown",
      "source": [
        "Nó da árvore"
      ],
      "metadata": {
        "id": "TayybJYVpvS3"
      }
    },
    {
      "cell_type": "code",
      "source": [
        "class Node:\n",
        "    def __init__(self, data):\n",
        "        self.data = data\n",
        "        self.left = None\n",
        "        self.right = None"
      ],
      "metadata": {
        "id": "bTZUkElBpxpc"
      },
      "execution_count": 5,
      "outputs": []
    },
    {
      "cell_type": "markdown",
      "source": [
        "Função de busca de aprofundamento iterativo"
      ],
      "metadata": {
        "id": "RTQxjooGp4Nj"
      }
    },
    {
      "cell_type": "code",
      "source": [
        "def iterative_deepening_search(root, target):\n",
        "    depth = 0\n",
        "    while True:\n",
        "        print(\"Busca em profundidade limitada com profundidade\", depth)\n",
        "        if depth_limited_search(root, target, depth):\n",
        "            return True\n",
        "        depth += 1\n",
        "\n",
        "    return False"
      ],
      "metadata": {
        "id": "H2zgSl3IqCoz"
      },
      "execution_count": 7,
      "outputs": []
    },
    {
      "cell_type": "markdown",
      "source": [
        "Árvore de exemplo"
      ],
      "metadata": {
        "id": "PDG_5zMhqEEy"
      }
    },
    {
      "cell_type": "code",
      "source": [
        "def create_tree():\n",
        "    root = Node(1)\n",
        "    root.left = Node(2)\n",
        "    root.right = Node(3)\n",
        "    root.left.left = Node(4)\n",
        "    root.left.right = Node(5)\n",
        "    root.right.left = Node(6)\n",
        "    root.right.right = Node(7)\n",
        "    root.left.left.left = Node(8)\n",
        "    root.left.left.right = Node(9)\n",
        "    return root"
      ],
      "metadata": {
        "id": "5crg5j2NqFPj"
      },
      "execution_count": 12,
      "outputs": []
    },
    {
      "cell_type": "markdown",
      "source": [
        "Teste:"
      ],
      "metadata": {
        "id": "FtTYW0GmqGs0"
      }
    },
    {
      "cell_type": "code",
      "source": [
        "def main():\n",
        "    root = create_tree()  # Gerar Arvore\n",
        "    target = 5  # Elemento a ser buscado\n",
        "    print(\"Busca de Aprofundamento Iterativo para o elemento\", target, \":\")\n",
        "    if not iterative_deepening_search(root, target):\n",
        "        print(\"Elemento\", target, \"não encontrado na árvore.\")\n",
        "\n",
        "\n",
        "if __name__ == \"__main__\":\n",
        "    main()"
      ],
      "metadata": {
        "colab": {
          "base_uri": "https://localhost:8080/"
        },
        "id": "ptZOn8FPqIfs",
        "outputId": "c358f485-3692-4528-f57d-c6fc1a79251a"
      },
      "execution_count": 13,
      "outputs": [
        {
          "output_type": "stream",
          "name": "stdout",
          "text": [
            "Busca de Aprofundamento Iterativo para o elemento 5 :\n",
            "Busca em profundidade limitada com profundidade 0\n",
            "Busca em profundidade limitada com profundidade 1\n",
            "Busca em profundidade limitada com profundidade 2\n",
            "Elemento 5 encontrado na árvore.\n"
          ]
        }
      ]
    }
  ]
}