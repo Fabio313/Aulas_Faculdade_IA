{
  "nbformat": 4,
  "nbformat_minor": 0,
  "metadata": {
    "colab": {
      "provenance": [],
      "authorship_tag": "ABX9TyNHbO8NXdd+DAAXEt4fO4lV",
      "include_colab_link": true
    },
    "kernelspec": {
      "name": "python3",
      "display_name": "Python 3"
    },
    "language_info": {
      "name": "python"
    }
  },
  "cells": [
    {
      "cell_type": "markdown",
      "metadata": {
        "id": "view-in-github",
        "colab_type": "text"
      },
      "source": [
        "<a href=\"https://colab.research.google.com/github/Fabio313/Aulas_Faculdade_IA/blob/main/BuscaCega_PL_e_PI.ipynb\" target=\"_parent\"><img src=\"https://colab.research.google.com/assets/colab-badge.svg\" alt=\"Open In Colab\"/></a>"
      ]
    },
    {
      "cell_type": "markdown",
      "source": [
        "# Busca por profundidade Limitada"
      ],
      "metadata": {
        "id": "Ia4LWCusoW-l"
      }
    },
    {
      "cell_type": "markdown",
      "source": [
        "Nó da árvore"
      ],
      "metadata": {
        "id": "ZUlBkWQOoaLb"
      }
    },
    {
      "cell_type": "code",
      "source": [
        "class Node:\n",
        "    def __init__(self, data):\n",
        "        self.data = data\n",
        "        self.left = None\n",
        "        self.right = None"
      ],
      "metadata": {
        "id": "oehCtpI2ocHm"
      },
      "execution_count": 1,
      "outputs": []
    },
    {
      "cell_type": "markdown",
      "source": [
        "Função de busca em profundidade limitada"
      ],
      "metadata": {
        "id": "lUIFmcj8oeRb"
      }
    },
    {
      "cell_type": "code",
      "source": [
        "def depth_limited_search(node, target, depth):\n",
        "    if node is None:  # Caso base: nó é nulo\n",
        "        return False\n",
        "\n",
        "    if node.data == target:  # Caso base: encontrou o elemento\n",
        "        print(\"Elemento\", target, \"encontrado na árvore.\")\n",
        "        return True\n",
        "\n",
        "    if depth <= 0:  # Caso base: profundidade máxima atingida\n",
        "        return False\n",
        "\n",
        "    # Recursão para os nós filhos\n",
        "    if depth_limited_search(node.left, target, depth - 1):\n",
        "        return True\n",
        "    if depth_limited_search(node.right, target, depth - 1):\n",
        "        return True\n",
        "\n",
        "    return False"
      ],
      "metadata": {
        "id": "znCGkFkbofzL"
      },
      "execution_count": 2,
      "outputs": []
    },
    {
      "cell_type": "markdown",
      "source": [
        "Árvore de exemplo"
      ],
      "metadata": {
        "id": "8TL5TYj4ojWL"
      }
    },
    {
      "cell_type": "code",
      "source": [
        "def create_tree():\n",
        "    root = Node(1)\n",
        "    root.left = Node(2)\n",
        "    root.right = Node(3)\n",
        "    root.left.left = Node(4)\n",
        "    root.left.right = Node(5)\n",
        "    root.right.left = Node(6)\n",
        "    root.right.right = Node(7)\n",
        "    root.left.left.left = Node(8)\n",
        "    root.left.left.right = Node(9)\n",
        "    return root"
      ],
      "metadata": {
        "id": "2G0O23XzolM0"
      },
      "execution_count": 3,
      "outputs": []
    },
    {
      "cell_type": "markdown",
      "source": [
        "Teste:"
      ],
      "metadata": {
        "id": "5ConhI1Momxl"
      }
    },
    {
      "cell_type": "code",
      "source": [
        "def main():\n",
        "    root = create_tree()  # Carregar Árvore\n",
        "\n",
        "    target = 9  # Buscar\n",
        "    max_depth = 3  # Profundidade Máxima\n",
        "    print(\"Busca em profundidade limitada para o elemento\", target, \":\")\n",
        "    if not depth_limited_search(root, target, max_depth):\n",
        "        print(\"Elemento\", target, \"NÃO encontrado na árvore.\")\n",
        "\n",
        "if __name__ == \"__main__\":\n",
        "    main()"
      ],
      "metadata": {
        "colab": {
          "base_uri": "https://localhost:8080/"
        },
        "id": "3J_TQxtcopuN",
        "outputId": "265757c9-0255-4992-9fa8-0e864cfbe7f4"
      },
      "execution_count": 4,
      "outputs": [
        {
          "output_type": "stream",
          "name": "stdout",
          "text": [
            "Busca em profundidade limitada para o elemento 9 :\n",
            "Elemento 9 encontrado na árvore.\n"
          ]
        }
      ]
    }
  ]
}