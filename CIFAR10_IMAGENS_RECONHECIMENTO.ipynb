{
  "nbformat": 4,
  "nbformat_minor": 0,
  "metadata": {
    "colab": {
      "provenance": [],
      "include_colab_link": true
    },
    "kernelspec": {
      "name": "python3",
      "display_name": "Python 3"
    },
    "language_info": {
      "name": "python"
    }
  },
  "cells": [
    {
      "cell_type": "markdown",
      "metadata": {
        "id": "view-in-github",
        "colab_type": "text"
      },
      "source": [
        "<a href=\"https://colab.research.google.com/github/Fabio313/Aulas_Faculdade_IA/blob/main/CIFAR10_IMAGENS_RECONHECIMENTO.ipynb\" target=\"_parent\"><img src=\"https://colab.research.google.com/assets/colab-badge.svg\" alt=\"Open In Colab\"/></a>"
      ]
    },
    {
      "cell_type": "code",
      "execution_count": 1,
      "metadata": {
        "colab": {
          "base_uri": "https://localhost:8080/"
        },
        "id": "cL8xE4PTrC0t",
        "outputId": "bab364f1-0aaf-4357-fda2-5f7783bd9800"
      },
      "outputs": [
        {
          "output_type": "stream",
          "name": "stdout",
          "text": [
            "Downloading data from https://www.cs.toronto.edu/~kriz/cifar-10-python.tar.gz\n",
            "170498071/170498071 [==============================] - 2s 0us/step\n",
            "Epoch 1/10\n",
            "1563/1563 [==============================] - 78s 49ms/step - loss: 1.4551 - accuracy: 0.4706 - val_loss: 1.1743 - val_accuracy: 0.5847\n",
            "Epoch 2/10\n",
            "1563/1563 [==============================] - 74s 47ms/step - loss: 1.0726 - accuracy: 0.6187 - val_loss: 1.0114 - val_accuracy: 0.6417\n",
            "Epoch 3/10\n",
            "1563/1563 [==============================] - 74s 47ms/step - loss: 0.9091 - accuracy: 0.6793 - val_loss: 0.8986 - val_accuracy: 0.6849\n",
            "Epoch 4/10\n",
            "1563/1563 [==============================] - 77s 50ms/step - loss: 0.7983 - accuracy: 0.7183 - val_loss: 0.9137 - val_accuracy: 0.6822\n",
            "Epoch 5/10\n",
            "1563/1563 [==============================] - 75s 48ms/step - loss: 0.7128 - accuracy: 0.7483 - val_loss: 0.9392 - val_accuracy: 0.6828\n",
            "Epoch 6/10\n",
            "1563/1563 [==============================] - 77s 49ms/step - loss: 0.6360 - accuracy: 0.7750 - val_loss: 0.8733 - val_accuracy: 0.7007\n",
            "Epoch 7/10\n",
            "1563/1563 [==============================] - 75s 48ms/step - loss: 0.5660 - accuracy: 0.7996 - val_loss: 0.8935 - val_accuracy: 0.7085\n",
            "Epoch 8/10\n",
            "1563/1563 [==============================] - 78s 50ms/step - loss: 0.5063 - accuracy: 0.8198 - val_loss: 0.9004 - val_accuracy: 0.7132\n",
            "Epoch 9/10\n",
            "1563/1563 [==============================] - 74s 48ms/step - loss: 0.4464 - accuracy: 0.8422 - val_loss: 0.9165 - val_accuracy: 0.7213\n",
            "Epoch 10/10\n",
            "1563/1563 [==============================] - 76s 49ms/step - loss: 0.3918 - accuracy: 0.8616 - val_loss: 0.9644 - val_accuracy: 0.7187\n",
            "313/313 [==============================] - 4s 13ms/step - loss: 0.9644 - accuracy: 0.7187\n",
            "Test accuracy: 0.7186999917030334\n"
          ]
        }
      ],
      "source": [
        "import tensorflow as tf\n",
        "from tensorflow.keras.datasets import cifar10\n",
        "from tensorflow.keras.preprocessing.image import ImageDataGenerator\n",
        "\n",
        "# Carregar os dados CIFAR-10\n",
        "(train_images, train_labels), (test_images, test_labels) = cifar10.load_data()\n",
        "\n",
        "# Pré-processamento das imagens\n",
        "train_images = train_images / 255.0\n",
        "test_images = test_images / 255.0\n",
        "\n",
        "# Definir o modelo CNN\n",
        "model = tf.keras.models.Sequential([\n",
        "    tf.keras.layers.Conv2D(32, (3, 3), activation='relu', input_shape=(32, 32, 3)),\n",
        "    tf.keras.layers.MaxPooling2D((2, 2)),\n",
        "    tf.keras.layers.Conv2D(64, (3, 3), activation='relu'),\n",
        "    tf.keras.layers.MaxPooling2D((2, 2)),\n",
        "    tf.keras.layers.Conv2D(128, (3, 3), activation='relu'),\n",
        "    tf.keras.layers.MaxPooling2D((2, 2)),\n",
        "    tf.keras.layers.Flatten(),\n",
        "    tf.keras.layers.Dense(512, activation='relu'),\n",
        "    tf.keras.layers.Dense(10, activation='softmax')\n",
        "])\n",
        "\n",
        "# Compilar o modelo\n",
        "model.compile(optimizer='adam',\n",
        "              loss='sparse_categorical_crossentropy',\n",
        "              metrics=['accuracy'])\n",
        "\n",
        "# Treinar o modelo\n",
        "history = model.fit(train_images, train_labels, epochs=10, validation_data=(test_images, test_labels))\n",
        "\n",
        "# Avaliar o modelo\n",
        "test_loss, test_acc = model.evaluate(test_images, test_labels)\n",
        "\n",
        "print('Test accuracy:', test_acc)\n"
      ]
    },
    {
      "cell_type": "code",
      "source": [
        "model.save('modelo_cifar10.h5')"
      ],
      "metadata": {
        "colab": {
          "base_uri": "https://localhost:8080/"
        },
        "id": "zPiESjh6Ug-9",
        "outputId": "7ca28698-9fd7-4474-d437-b83e74c47386"
      },
      "execution_count": 2,
      "outputs": [
        {
          "output_type": "stream",
          "name": "stderr",
          "text": [
            "/usr/local/lib/python3.10/dist-packages/keras/src/engine/training.py:3103: UserWarning: You are saving your model as an HDF5 file via `model.save()`. This file format is considered legacy. We recommend using instead the native Keras format, e.g. `model.save('my_model.keras')`.\n",
            "  saving_api.save_model(\n"
          ]
        }
      ]
    },
    {
      "cell_type": "code",
      "source": [
        "import tensorflow as tf\n",
        "import numpy as np\n",
        "from tensorflow.keras.preprocessing import image\n",
        "\n",
        "# Carregar o modelo treinado\n",
        "model = tf.keras.models.load_model('modelo_cifar10.h5')\n",
        "\n",
        "# Carregar uma nova imagem\n",
        "image_path = '/content/lapiz.png'  # Substitua pelo caminho da sua imagem\n",
        "img = image.load_img(image_path, target_size=(32, 32))\n",
        "img_array = image.img_to_array(img)\n",
        "img_array = np.expand_dims(img_array, axis=0)\n",
        "img_array /= 255.0  # Normalização\n",
        "\n",
        "# Fazer a previsão\n",
        "prediction = model.predict(img_array)\n",
        "predicted_class = np.argmax(prediction)\n",
        "\n",
        "# Mapear o número da classe para o nome da classe\n",
        "class_names = ['avião', 'automóvel', 'pássaro', 'gato', 'cervo', 'cachorro', 'sapo', 'cavalo', 'navio', 'caminhão']\n",
        "predicted_label = class_names[predicted_class]\n",
        "\n",
        "print('Predicted class:', predicted_label)\n"
      ],
      "metadata": {
        "colab": {
          "base_uri": "https://localhost:8080/"
        },
        "id": "NlMJgunnsVeR",
        "outputId": "ad410037-e9cb-4a6a-de8e-939537b8a454"
      },
      "execution_count": 4,
      "outputs": [
        {
          "output_type": "stream",
          "name": "stdout",
          "text": [
            "1/1 [==============================] - 0s 90ms/step\n",
            "Predicted class: pássaro\n"
          ]
        }
      ]
    }
  ]
}