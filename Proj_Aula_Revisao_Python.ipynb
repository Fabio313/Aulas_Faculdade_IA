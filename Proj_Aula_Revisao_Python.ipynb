{
  "nbformat": 4,
  "nbformat_minor": 0,
  "metadata": {
    "colab": {
      "provenance": [],
      "authorship_tag": "ABX9TyPtRpS4lkSUgbdtgMbfD8Hu",
      "include_colab_link": true
    },
    "kernelspec": {
      "name": "python3",
      "display_name": "Python 3"
    },
    "language_info": {
      "name": "python"
    }
  },
  "cells": [
    {
      "cell_type": "markdown",
      "metadata": {
        "id": "view-in-github",
        "colab_type": "text"
      },
      "source": [
        "<a href=\"https://colab.research.google.com/github/Fabio313/Aulas_Faculdade_IA/blob/main/Proj_Aula_Revisao_Python.ipynb\" target=\"_parent\"><img src=\"https://colab.research.google.com/assets/colab-badge.svg\" alt=\"Open In Colab\"/></a>"
      ]
    },
    {
      "cell_type": "code",
      "source": [
        "import random"
      ],
      "metadata": {
        "id": "hdafow9-p3As"
      },
      "execution_count": 20,
      "outputs": []
    },
    {
      "cell_type": "code",
      "source": [
        "jogadas = ['Pedra','Papel','Tesoura']"
      ],
      "metadata": {
        "id": "S5Noi4hfqSUe"
      },
      "execution_count": 19,
      "outputs": []
    },
    {
      "cell_type": "code",
      "execution_count": 21,
      "metadata": {
        "colab": {
          "base_uri": "https://localhost:8080/"
        },
        "id": "Llu2IzEMmYrK",
        "outputId": "31746e54-a39a-4b0e-f309-f6fb566e19df"
      },
      "outputs": [
        {
          "output_type": "stream",
          "name": "stdout",
          "text": [
            "JOKENPO\n",
            "1 - Pedra\n",
            "2 - Papel\n",
            "3 - Tesoura\n",
            "\n"
          ]
        }
      ],
      "source": [
        "print(\"JOKENPO\\n1 - Pedra\\n2 - Papel\\n3 - Tesoura\\n\")"
      ]
    },
    {
      "cell_type": "code",
      "source": [
        "jogadaPc = random.randint(0,2)\n",
        "print(jogadaPc)"
      ],
      "metadata": {
        "colab": {
          "base_uri": "https://localhost:8080/"
        },
        "id": "2WF6YzIcpW_k",
        "outputId": "de392dd6-28b7-40c6-9a2d-a47d1561b511"
      },
      "execution_count": 34,
      "outputs": [
        {
          "output_type": "stream",
          "name": "stdout",
          "text": [
            "1\n"
          ]
        }
      ]
    },
    {
      "cell_type": "code",
      "source": [
        "jogadaPlayer = input()\n",
        "print(jogadaPlayer)"
      ],
      "metadata": {
        "id": "UdFKICsnqt-9"
      },
      "execution_count": null,
      "outputs": []
    }
  ]
}