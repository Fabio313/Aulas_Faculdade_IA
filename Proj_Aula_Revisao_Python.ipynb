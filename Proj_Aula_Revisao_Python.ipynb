{
  "nbformat": 4,
  "nbformat_minor": 0,
  "metadata": {
    "colab": {
      "provenance": [],
      "authorship_tag": "ABX9TyMQ6qrEjMxhvt7xxggIgl9D",
      "include_colab_link": true
    },
    "kernelspec": {
      "name": "python3",
      "display_name": "Python 3"
    },
    "language_info": {
      "name": "python"
    }
  },
  "cells": [
    {
      "cell_type": "markdown",
      "metadata": {
        "id": "view-in-github",
        "colab_type": "text"
      },
      "source": [
        "<a href=\"https://colab.research.google.com/github/Fabio313/Aulas_Faculdade_IA/blob/main/Proj_Aula_Revisao_Python.ipynb\" target=\"_parent\"><img src=\"https://colab.research.google.com/assets/colab-badge.svg\" alt=\"Open In Colab\"/></a>"
      ]
    },
    {
      "cell_type": "code",
      "source": [
        "import random"
      ],
      "metadata": {
        "id": "hdafow9-p3As"
      },
      "execution_count": 34,
      "outputs": []
    },
    {
      "cell_type": "code",
      "source": [
        "jogadas = ['Pedra','Papel','Tesoura']"
      ],
      "metadata": {
        "id": "S5Noi4hfqSUe"
      },
      "execution_count": 41,
      "outputs": []
    },
    {
      "cell_type": "code",
      "execution_count": 40,
      "metadata": {
        "colab": {
          "base_uri": "https://localhost:8080/"
        },
        "id": "Llu2IzEMmYrK",
        "outputId": "8177fd20-3d76-4ce0-a940-9006e979e5fb"
      },
      "outputs": [
        {
          "output_type": "stream",
          "name": "stdout",
          "text": [
            "JOKENPO\n",
            "0 - Pedra\n",
            "1 - Papel\n",
            "2 - Tesoura\n",
            "\n"
          ]
        }
      ],
      "source": [
        "print(\"JOKENPO\\n0 - Pedra\\n1 - Papel\\n2 - Tesoura\\n\")"
      ]
    },
    {
      "cell_type": "code",
      "source": [
        "jogadaPc = random.randint(0,2)"
      ],
      "metadata": {
        "id": "2WF6YzIcpW_k"
      },
      "execution_count": 59,
      "outputs": []
    },
    {
      "cell_type": "code",
      "source": [
        "valido = False\n",
        "jogadaPlayer = 0\n",
        "while(not valido):\n",
        "  try:\n",
        "      jogadaPlayer = int(input(\"Escolha sua jogada: \"))\n",
        "      if(2 < jogadaPlayer or jogadaPlayer < 0):\n",
        "        print('numero não é uma das opções')\n",
        "        valido = False\n",
        "      else:\n",
        "        valido = True\n",
        "  except ValueError:\n",
        "      print(\"Numero invalido!\")\n",
        "      valido = False\n"
      ],
      "metadata": {
        "colab": {
          "base_uri": "https://localhost:8080/"
        },
        "id": "UdFKICsnqt-9",
        "outputId": "d7b96d17-fe8c-4b9f-b17c-5658a081441a"
      },
      "execution_count": 62,
      "outputs": [
        {
          "name": "stdout",
          "output_type": "stream",
          "text": [
            "Escolha sua jogada: 2\n"
          ]
        }
      ]
    },
    {
      "cell_type": "code",
      "source": [
        "print('PC: ' + jogadas[jogadaPc] + ' X ' + jogadas[jogadaPlayer] + ' :Player')"
      ],
      "metadata": {
        "colab": {
          "base_uri": "https://localhost:8080/"
        },
        "id": "gipFVz1Mywo6",
        "outputId": "079ff896-8963-49e5-b1a5-91812079c1ee"
      },
      "execution_count": 63,
      "outputs": [
        {
          "output_type": "stream",
          "name": "stdout",
          "text": [
            "PC: Pedra X Tesoura :Player\n"
          ]
        }
      ]
    },
    {
      "cell_type": "code",
      "source": [
        "if(jogadaPc > jogadaPlayer):\n",
        "  if(jogadaPlayer == 0 and jogadaPc == 2):\n",
        "    print('VITORIA DO PLAYER')\n",
        "  else:\n",
        "    print('VITORIA DO PC')\n",
        "elif(jogadaPlayer > jogadaPc):\n",
        "  if(jogadaPlayer == 2 and jogadaPc == 0):\n",
        "    print('VITORIA DO PC')\n",
        "  else:\n",
        "    print('VITORIA DO PLAYER')\n",
        "else:\n",
        "  print('EMPATE')"
      ],
      "metadata": {
        "colab": {
          "base_uri": "https://localhost:8080/"
        },
        "id": "-y4k01A41GJb",
        "outputId": "7c20dcf4-c674-4a8d-ecd6-47aeba63e68c"
      },
      "execution_count": 65,
      "outputs": [
        {
          "output_type": "stream",
          "name": "stdout",
          "text": [
            "VITORIA DO PC\n"
          ]
        }
      ]
    }
  ]
}