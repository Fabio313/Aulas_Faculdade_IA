{
  "nbformat": 4,
  "nbformat_minor": 0,
  "metadata": {
    "colab": {
      "provenance": [],
      "authorship_tag": "ABX9TyOb0ay6ueZm5EExRMMFnBca",
      "include_colab_link": true
    },
    "kernelspec": {
      "name": "python3",
      "display_name": "Python 3"
    },
    "language_info": {
      "name": "python"
    }
  },
  "cells": [
    {
      "cell_type": "markdown",
      "metadata": {
        "id": "view-in-github",
        "colab_type": "text"
      },
      "source": [
        "<a href=\"https://colab.research.google.com/github/Fabio313/Aulas_Faculdade_IA/blob/main/UtilizandoNER.ipynb\" target=\"_parent\"><img src=\"https://colab.research.google.com/assets/colab-badge.svg\" alt=\"Open In Colab\"/></a>"
      ]
    },
    {
      "cell_type": "markdown",
      "source": [
        "# Reconhecimento de Entidade Nominadas\n"
      ],
      "metadata": {
        "id": "6KwxNvm_0jzF"
      }
    },
    {
      "cell_type": "markdown",
      "source": [
        "Instalação da biblioteca"
      ],
      "metadata": {
        "id": "jcjW_d-Lx4c4"
      }
    },
    {
      "cell_type": "code",
      "source": [
        "%pip install spacy"
      ],
      "metadata": {
        "id": "QcCa3iDqx9fI"
      },
      "execution_count": null,
      "outputs": []
    },
    {
      "cell_type": "code",
      "source": [
        "!python -m spacy download en_core_web_sm\n",
        "!python -m spacy download pt_core_news_sm"
      ],
      "metadata": {
        "id": "Y-MHcLt5yUTy"
      },
      "execution_count": null,
      "outputs": []
    },
    {
      "cell_type": "markdown",
      "source": [
        "Importando biblioteca"
      ],
      "metadata": {
        "id": "We5aD_4zzFoc"
      }
    },
    {
      "cell_type": "code",
      "source": [
        "import spacy"
      ],
      "metadata": {
        "id": "vkUwH2WQzC1H"
      },
      "execution_count": null,
      "outputs": []
    },
    {
      "cell_type": "markdown",
      "source": [
        "Carregar a biblioteca spacy"
      ],
      "metadata": {
        "id": "wSfPGAbPzKRr"
      }
    },
    {
      "cell_type": "code",
      "source": [
        "nlp = spacy.load(\"pt_core_news_sm\")"
      ],
      "metadata": {
        "id": "0NdLfY1ozHsR"
      },
      "execution_count": 16,
      "outputs": []
    },
    {
      "cell_type": "code",
      "source": [
        "texto = \"eu sou Fabio Zenatti e moro em Araraquara, quero ir para California um dia, trabalho com programação, utilizando de C# .net e Angular, estou estudando REACT. Alem disso estou cursando Sistemas de Informação na UNIARA\""
      ],
      "metadata": {
        "id": "ZwZmx424zn-F"
      },
      "execution_count": 19,
      "outputs": []
    },
    {
      "cell_type": "markdown",
      "source": [
        "Processamento do texto"
      ],
      "metadata": {
        "id": "3PIezoYM0y0L"
      }
    },
    {
      "cell_type": "code",
      "source": [
        "doc = nlp(texto)\n",
        "for entidade in doc.ents:\n",
        "  print(entidade.text, entidade.label_)"
      ],
      "metadata": {
        "colab": {
          "base_uri": "https://localhost:8080/"
        },
        "id": "Ded2a99RzyhG",
        "outputId": "ea04af15-b474-4334-b018-0c9b794abef6"
      },
      "execution_count": 20,
      "outputs": [
        {
          "output_type": "stream",
          "name": "stdout",
          "text": [
            "Fabio Zenatti PER\n",
            "Araraquara LOC\n",
            "California LOC\n",
            "C MISC\n",
            "Angular PER\n",
            "REACT ORG\n",
            "Sistemas de Informação MISC\n",
            "UNIARA LOC\n"
          ]
        }
      ]
    },
    {
      "cell_type": "markdown",
      "source": [
        "1.NLP: Processamento de Linguagem Natural (Natural Language Processing).\n",
        "\n",
        "2.POS: Part of Speech Tagging - Marcação de Partes do Discurso.\n",
        "\n",
        "3.NER: Reconhecimento de Entidades Nominadas (Named Entity Recognition).\n",
        "\n",
        "4.LEM: Lematização (Lemmatization).\n",
        "\n",
        "5.DEP: Análise de Dependência (Dependency Parsing).\n",
        "\n",
        "6.MISC: Diversos (Miscellaneous) - Categoria para entidades nomeadas que não se enquadram em\n",
        "categorias específicas,\n",
        "\n",
        "7.como Pessoas, Organizações ou Localizações.\n",
        "\n",
        "8.GPE: Entidade Geopolítica (Geopolitical Entity) - Usado para identificar países, cidades, estados, etc.\n",
        "\n",
        "9.LOC: Localização (Location) - Usado para identificar lugares geográficos.\n",
        "\n",
        "10.ORG: Organização (Organization) - Usado para identificar empresas, instituições, etc.\n",
        "\n",
        "11.PER: Pessoa (Person) - Usado para identificar nomes de pessoas."
      ],
      "metadata": {
        "id": "LG9sidS313Rr"
      }
    }
  ]
}